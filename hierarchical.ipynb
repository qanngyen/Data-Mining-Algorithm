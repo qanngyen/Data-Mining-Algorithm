{
 "cells": [
  {
   "cell_type": "markdown",
   "id": "8d2c37a2",
   "metadata": {},
   "source": [
    "Bước 1: Thêm thư viện và đọc dữ liệu"
   ]
  },
  {
   "cell_type": "code",
   "execution_count": 1,
   "id": "6decafd9",
   "metadata": {},
   "outputs": [],
   "source": [
    "import pandas as pd\n",
    "import numpy as np\n",
    "from sklearn.linear_model import LinearRegression\n",
    "from sklearn.preprocessing import StandardScaler\n",
    "from scipy.cluster.hierarchy import linkage, dendrogram, fcluster\n",
    "import matplotlib.pyplot as plt\n",
    "\n",
    "\n",
    "\n"
   ]
  },
  {
   "cell_type": "markdown",
   "id": "3541045b",
   "metadata": {},
   "source": [
    "## Bước 2: Đọc dữ liệu"
   ]
  },
  {
   "cell_type": "code",
   "execution_count": 3,
   "id": "3c75ae18",
   "metadata": {},
   "outputs": [],
   "source": [
    "\n",
    "file_path = r'F:\\hoctap\\co so lap trinh\\btck\\hierarchical_sales_data.csv'  # thay bằng đường dẫn file của bạn\n",
    "df = pd.read_csv(file_path)"
   ]
  },
  {
   "cell_type": "markdown",
   "id": "6a632c1d",
   "metadata": {},
   "source": [
    "## Bước 3: Xây dựng hàm tuyến tính dùng cho việc dự đoán doanh số không bị ảnh hưởng của khuyến mãi"
   ]
  },
  {
   "cell_type": "code",
   "execution_count": 4,
   "id": "0f3f9626",
   "metadata": {},
   "outputs": [],
   "source": [
    "def linear_regression_qty_promo(df):\n",
    "    results = {}\n",
    "\n",
    "    # Lấy tất cả các cột QTY và PROMO\n",
    "    qty_cols = [col for col in df.columns if col.startswith('QTY_')]\n",
    "    promo_cols = [col for col in df.columns if col.startswith('PROMO_')]\n",
    "\n",
    "    # Tạo dictionary để dễ lookup PROMO tương ứng\n",
    "    promo_set = set(promo_cols)\n",
    "\n",
    "    for qty_col in qty_cols:\n",
    "        # Tạo tên cột PROMO tương ứng\n",
    "        promo_col = qty_col.replace('QTY_', 'PROMO_')\n",
    "        if promo_col in promo_set:\n",
    "            # Chuẩn bị dữ liệu (bỏ NaN nếu có)\n",
    "            data = df[[qty_col, promo_col]].dropna()\n",
    "            if len(data) > 0:\n",
    "                X = data[[promo_col]].values.reshape(-1,1)\n",
    "                y = data[qty_col].values\n",
    "\n",
    "                model = LinearRegression()\n",
    "                model.fit(X, y)\n",
    "\n",
    "                a = model.coef_[0]    # Hệ số góc\n",
    "                b = model.intercept_  # Hệ số chặn\n",
    "\n",
    "                results[qty_col] = {'coef': a, 'intercept': b}\n",
    "\n",
    "    return results\n",
    "\n",
    "results = linear_regression_qty_promo(df)"
   ]
  },
  {
   "cell_type": "markdown",
   "id": "4fb7bd65",
   "metadata": {},
   "source": [
    "## Bước 4: Tạo ra dữ liệu doanh số không bị ảnh hưởng của khuyến mãi"
   ]
  },
  {
   "cell_type": "code",
   "execution_count": 6,
   "id": "a07547fc",
   "metadata": {},
   "outputs": [],
   "source": [
    "def adjust_sales_without_promo(df, regression_results, DATE_col='DATE'):\n",
    "    adjusted_data = {}\n",
    "\n",
    "    for qty_col, params in regression_results.items():\n",
    "        promo_col = qty_col.replace('QTY_', 'PROMO_')\n",
    "        if promo_col in df.columns:\n",
    "            a = params['coef']\n",
    "            b = params['intercept']\n",
    "\n",
    "            adjusted = df[qty_col] - a * df[promo_col]\n",
    "            adjusted = adjusted.clip(lower=0)\n",
    "            adjusted = adjusted.apply(np.floor).astype(int)\n",
    "\n",
    "            adjusted_data[qty_col + '_adjusted'] = adjusted\n",
    "\n",
    "    # Lấy cột ngày tháng + các cột doanh số điều chỉnh\n",
    "    df_adjusted_only = pd.DataFrame(adjusted_data)\n",
    "    df_result = pd.concat([df[[DATE_col]], df_adjusted_only], axis=1)\n",
    "\n",
    "    return df_result\n",
    "\n",
    "# Sử dụng hàm\n",
    "df_adjusted_only = adjust_sales_without_promo(df, results, DATE_col='DATE')\n",
    "\n",
    "# Lưu file CSV chỉ với doanh số đã điều chỉnh\n",
    "df_adjusted_only.to_csv(r'sales_data_without_promo.csv', index=False)\n"
   ]
  },
  {
   "cell_type": "markdown",
   "id": "48083898",
   "metadata": {},
   "source": [
    "## Bước 5: Đọc dữ liệu không bị ảnh hưởng bởi khuyến mãi"
   ]
  },
  {
   "cell_type": "code",
   "execution_count": 7,
   "id": "7bca9568",
   "metadata": {},
   "outputs": [],
   "source": [
    "# Đọc dữ liệu\n",
    "data = pd.read_csv(r'sales_data_without_promo.csv', parse_dates=['DATE'])  # thay bằng tên file thực tế"
   ]
  },
  {
   "cell_type": "markdown",
   "id": "12e2b9b9",
   "metadata": {},
   "source": [
    "## Bước 6: Chuyển dữ liệu sang dạng dài để có thể thực hiện đọc dữ liệu tốt hơn"
   ]
  },
  {
   "cell_type": "code",
   "execution_count": 8,
   "id": "c5ad9030",
   "metadata": {},
   "outputs": [],
   "source": [
    "# Chuyển dữ liệu từ dạng wide sang long\n",
    "melted_data = data.melt(id_vars='DATE', var_name='PRODUCT', value_name='QTY')\n",
    "\n",
    "# Trích xuất tháng\n",
    "melted_data['MONTH'] = melted_data['DATE'].dt.month\n"
   ]
  },
  {
   "cell_type": "markdown",
   "id": "e71c0c84",
   "metadata": {},
   "source": [
    "## Bước 7: Phân cụm sản phẩm có đặc trưng doanh số giống nhau theo trug bình 1 năm "
   ]
  },
  {
   "cell_type": "code",
   "execution_count": 14,
   "id": "acc1939f",
   "metadata": {},
   "outputs": [],
   "source": [
    "# Tính doanh số trung bình mỗi tháng\n",
    "monthly_avg = melted_data.groupby(['PRODUCT', 'MONTH'])['QTY'].mean().reset_index()\n",
    "\n",
    "monthly_avg.to_csv(r'monthly_avg.csv', index=False)\n",
    "\n",
    "\n",
    "# Pivot lại để tạo ma trận sản phẩm - tháng\n",
    "product_month_matrix = monthly_avg.pivot(index='PRODUCT', columns='MONTH', values='QTY').fillna(0)\n"
   ]
  },
  {
   "cell_type": "code",
   "execution_count": 11,
   "id": "5a523353",
   "metadata": {},
   "outputs": [],
   "source": [
    "# Chuẩn hóa dữ liệu\n",
    "scaler = StandardScaler()\n",
    "scaled_matrix = scaler.fit_transform(product_month_matrix)\n",
    "\n",
    "# Phân cụm bằng Hierarchical Clustering\n",
    "linkage_matrix = linkage(scaled_matrix, method='ward')\n"
   ]
  },
  {
   "cell_type": "code",
   "execution_count": null,
   "id": "305b7e68",
   "metadata": {},
   "outputs": [
    {
     "name": "stdout",
     "output_type": "stream",
     "text": [
      "\n",
      "📅 Các nhóm sản phẩm có doanh số giống nhau trong tháng 1:\n",
      " - Doanh số 3.72: QTY_B1_13_adjusted, QTY_B3_16_adjusted\n",
      " - Doanh số 2.3933333333333335: QTY_B1_26_adjusted, QTY_B2_35_adjusted\n",
      " - Doanh số 3.04: QTY_B1_35_adjusted, QTY_B3_5_adjusted\n",
      " - Doanh số 1.94: QTY_B1_40_adjusted, QTY_B3_3_adjusted\n",
      " - Doanh số 1.5133333333333334: QTY_B1_5_adjusted, QTY_B2_44_adjusted\n",
      " - Doanh số 1.0066666666666666: QTY_B2_12_adjusted, QTY_B4_4_adjusted\n",
      " - Doanh số 0.9: QTY_B2_29_adjusted, QTY_B2_33_adjusted, QTY_B4_9_adjusted\n",
      " - Doanh số 1.8: QTY_B2_2_adjusted, QTY_B3_12_adjusted\n",
      " - Doanh số 0.9933333333333333: QTY_B2_38_adjusted, QTY_B3_21_adjusted\n",
      " - Doanh số 1.3866666666666667: QTY_B2_3_adjusted, QTY_B3_11_adjusted\n",
      "\n",
      "📅 Các nhóm sản phẩm có doanh số giống nhau trong tháng 2:\n",
      " - Doanh số 1.0851063829787233: QTY_B1_17_adjusted, QTY_B2_35_adjusted\n",
      " - Doanh số 1.0921985815602837: QTY_B1_21_adjusted, QTY_B2_30_adjusted\n",
      " - Doanh số 0.5035460992907801: QTY_B2_20_adjusted, QTY_B2_26_adjusted\n",
      " - Doanh số 3.1631205673758864: QTY_B2_4_adjusted, QTY_B3_16_adjusted\n",
      " - Doanh số 1.7163120567375887: QTY_B3_10_adjusted, QTY_B4_9_adjusted\n",
      " - Doanh số 1.475177304964539: QTY_B3_18_adjusted, QTY_B3_3_adjusted\n",
      "\n",
      "📅 Các nhóm sản phẩm có doanh số giống nhau trong tháng 3:\n",
      " - Doanh số 0.9415584415584416: QTY_B1_17_adjusted, QTY_B2_29_adjusted\n",
      " - Doanh số 0.5324675324675324: QTY_B2_14_adjusted, QTY_B3_13_adjusted, QTY_B3_20_adjusted\n",
      " - Doanh số 0.8311688311688312: QTY_B2_23_adjusted, QTY_B3_6_adjusted\n",
      " - Doanh số 0.6363636363636364: QTY_B2_26_adjusted, QTY_B2_41_adjusted, QTY_B3_7_adjusted\n",
      " - Doanh số 0.42857142857142855: QTY_B2_31_adjusted, QTY_B2_6_adjusted\n",
      "\n",
      "📅 Các nhóm sản phẩm có doanh số giống nhau trong tháng 4:\n",
      " - Doanh số 0.8482758620689655: QTY_B2_23_adjusted, QTY_B2_41_adjusted\n",
      "\n",
      "📅 Các nhóm sản phẩm có doanh số giống nhau trong tháng 5:\n",
      " - Doanh số 1.304635761589404: QTY_B1_10_adjusted, QTY_B3_15_adjusted\n",
      " - Doanh số 2.576158940397351: QTY_B1_14_adjusted, QTY_B1_35_adjusted, QTY_B2_9_adjusted\n",
      " - Doanh số 1.794701986754967: QTY_B1_28_adjusted, QTY_B3_9_adjusted\n",
      " - Doanh số 0.6357615894039735: QTY_B2_14_adjusted, QTY_B2_45_adjusted, QTY_B3_7_adjusted\n",
      " - Doanh số 0.4503311258278146: QTY_B2_22_adjusted, QTY_B2_3_adjusted\n",
      " - Doanh số 1.185430463576159: QTY_B2_36_adjusted, QTY_B2_42_adjusted\n",
      " - Doanh số 1.5894039735099337: QTY_B2_44_adjusted, QTY_B3_3_adjusted\n",
      "\n",
      "📅 Các nhóm sản phẩm có doanh số giống nhau trong tháng 6:\n",
      " - Doanh số 3.2348993288590604: QTY_B1_15_adjusted, QTY_B4_4_adjusted\n",
      " - Doanh số 1.1208053691275168: QTY_B1_17_adjusted, QTY_B2_7_adjusted\n",
      " - Doanh số 1.1946308724832215: QTY_B1_21_adjusted, QTY_B2_34_adjusted\n",
      " - Doanh số 0.5302013422818792: QTY_B2_13_adjusted, QTY_B2_31_adjusted, QTY_B2_42_adjusted\n",
      " - Doanh số 2.3691275167785233: QTY_B2_15_adjusted, QTY_B3_21_adjusted\n",
      " - Doanh số 0.6241610738255033: QTY_B2_17_adjusted, QTY_B3_6_adjusted\n",
      " - Doanh số 0.6845637583892618: QTY_B2_39_adjusted, QTY_B2_40_adjusted, QTY_B2_41_adjusted\n",
      " - Doanh số 0.7114093959731543: QTY_B3_18_adjusted, QTY_B3_7_adjusted\n",
      "\n",
      "📅 Các nhóm sản phẩm có doanh số giống nhau trong tháng 7:\n",
      " - Doanh số 0.8193548387096774: QTY_B1_21_adjusted, QTY_B3_11_adjusted\n",
      " - Doanh số 0.7806451612903226: QTY_B1_26_adjusted, QTY_B4_4_adjusted\n",
      " - Doanh số 1.070967741935484: QTY_B1_29_adjusted, QTY_B3_14_adjusted\n",
      " - Doanh số 0.864516129032258: QTY_B1_8_adjusted, QTY_B2_35_adjusted\n",
      " - Doanh số 0.4064516129032258: QTY_B2_13_adjusted, QTY_B2_41_adjusted\n",
      " - Doanh số 1.4774193548387098: QTY_B2_15_adjusted, QTY_B2_4_adjusted\n",
      " - Doanh số 0.09032258064516129: QTY_B2_21_adjusted, QTY_B2_24_adjusted\n",
      " - Doanh số 0.2903225806451613: QTY_B2_31_adjusted, QTY_B3_20_adjusted\n",
      " - Doanh số 0.5032258064516129: QTY_B2_45_adjusted, QTY_B2_5_adjusted\n",
      " - Doanh số 0.32903225806451614: QTY_B2_6_adjusted, QTY_B3_1_adjusted\n",
      "\n",
      "📅 Các nhóm sản phẩm có doanh số giống nhau trong tháng 8:\n",
      " - Doanh số 0.6357615894039735: QTY_B1_10_adjusted, QTY_B2_39_adjusted\n",
      " - Doanh số 1.5298013245033113: QTY_B1_11_adjusted, QTY_B1_1_adjusted\n",
      " - Doanh số 1.9536423841059603: QTY_B1_14_adjusted, QTY_B1_19_adjusted\n",
      " - Doanh số 0.8278145695364238: QTY_B1_21_adjusted, QTY_B1_40_adjusted\n",
      " - Doanh số 0.8609271523178808: QTY_B1_27_adjusted, QTY_B2_4_adjusted\n",
      " - Doanh số 0.6225165562913907: QTY_B1_28_adjusted, QTY_B1_8_adjusted\n",
      " - Doanh số 0.9006622516556292: QTY_B1_33_adjusted, QTY_B2_44_adjusted, QTY_B3_19_adjusted\n",
      " - Doanh số 1.5165562913907285: QTY_B1_36_adjusted, QTY_B2_2_adjusted\n",
      " - Doanh số 0.08609271523178808: QTY_B2_16_adjusted, QTY_B2_3_adjusted\n",
      " - Doanh số 0.304635761589404: QTY_B2_26_adjusted, QTY_B2_31_adjusted\n",
      " - Doanh số 1.0066225165562914: QTY_B2_35_adjusted, QTY_B3_21_adjusted\n",
      " - Doanh số 0.6754966887417219: QTY_B2_40_adjusted, QTY_B4_4_adjusted\n",
      "\n",
      "📅 Các nhóm sản phẩm có doanh số giống nhau trong tháng 9:\n",
      " - Doanh số 1.5933333333333333: QTY_B1_24_adjusted, QTY_B2_30_adjusted\n",
      " - Doanh số 1.1533333333333333: QTY_B1_33_adjusted, QTY_B2_40_adjusted\n",
      " - Doanh số 1.5333333333333334: QTY_B1_34_adjusted, QTY_B2_2_adjusted, QTY_B3_12_adjusted\n",
      " - Doanh số 2.14: QTY_B1_3_adjusted, QTY_B1_4_adjusted\n",
      " - Doanh số 3.24: QTY_B1_42_adjusted, QTY_B4_5_adjusted\n",
      " - Doanh số 2.1333333333333333: QTY_B1_5_adjusted, QTY_B1_7_adjusted, QTY_B3_5_adjusted\n",
      " - Doanh số 0.8866666666666667: QTY_B2_27_adjusted, QTY_B3_19_adjusted\n",
      " - Doanh số 0.8733333333333333: QTY_B2_29_adjusted, QTY_B2_42_adjusted, QTY_B3_14_adjusted\n",
      " - Doanh số 0.41333333333333333: QTY_B2_31_adjusted, QTY_B3_7_adjusted\n",
      " - Doanh số 0.48: QTY_B2_43_adjusted, QTY_B3_1_adjusted\n",
      "\n",
      "📅 Các nhóm sản phẩm có doanh số giống nhau trong tháng 10:\n",
      " - Doanh số 2.7096774193548385: QTY_B1_18_adjusted, QTY_B1_19_adjusted\n",
      " - Doanh số 0.8774193548387097: QTY_B1_33_adjusted, QTY_B2_11_adjusted\n",
      " - Doanh số 1.5419354838709678: QTY_B1_5_adjusted, QTY_B2_2_adjusted\n",
      " - Doanh số 0.5483870967741935: QTY_B2_10_adjusted, QTY_B3_7_adjusted\n",
      " - Doanh số 1.064516129032258: QTY_B2_17_adjusted, QTY_B2_21_adjusted\n",
      " - Doanh số 0.6838709677419355: QTY_B2_22_adjusted, QTY_B2_26_adjusted, QTY_B2_43_adjusted\n",
      " - Doanh số 1.3161290322580645: QTY_B2_35_adjusted, QTY_B3_9_adjusted\n",
      " - Doanh số 0.47096774193548385: QTY_B2_45_adjusted, QTY_B3_1_adjusted\n",
      " - Doanh số 1.4193548387096775: QTY_B2_7_adjusted, QTY_B3_4_adjusted\n",
      " - Doanh số 1.8129032258064517: QTY_B4_3_adjusted, QTY_B4_7_adjusted\n",
      "\n",
      "📅 Các nhóm sản phẩm có doanh số giống nhau trong tháng 11:\n",
      " - Doanh số 1.3154362416107384: QTY_B1_17_adjusted, QTY_B2_25_adjusted\n",
      " - Doanh số 1.4630872483221478: QTY_B1_21_adjusted, QTY_B2_34_adjusted\n",
      " - Doanh số 1.9395973154362416: QTY_B1_24_adjusted, QTY_B3_5_adjusted\n",
      " - Doanh số 1.308724832214765: QTY_B1_27_adjusted, QTY_B1_34_adjusted\n",
      " - Doanh số 3.0805369127516777: QTY_B1_31_adjusted, QTY_B1_3_adjusted\n",
      " - Doanh số 0.697986577181208: QTY_B2_14_adjusted, QTY_B3_11_adjusted\n",
      " - Doanh số 0.8993288590604027: QTY_B2_26_adjusted, QTY_B2_41_adjusted\n",
      " - Doanh số 1.429530201342282: QTY_B2_2_adjusted, QTY_B2_7_adjusted\n",
      " - Doanh số 0.8523489932885906: QTY_B2_32_adjusted, QTY_B2_43_adjusted\n",
      " - Doanh số 1.5503355704697988: QTY_B2_33_adjusted, QTY_B2_3_adjusted\n",
      " - Doanh số 1.8053691275167785: QTY_B2_40_adjusted, QTY_B3_3_adjusted\n",
      " - Doanh số 0.6442953020134228: QTY_B3_13_adjusted, QTY_B3_6_adjusted\n",
      "\n",
      "📅 Các nhóm sản phẩm có doanh số giống nhau trong tháng 12:\n",
      " - Doanh số 1.7905405405405406: QTY_B1_16_adjusted, QTY_B3_14_adjusted\n",
      " - Doanh số 1.2567567567567568: QTY_B1_17_adjusted, QTY_B2_11_adjusted\n",
      " - Doanh số 3.574324324324324: QTY_B1_1_adjusted, QTY_B1_39_adjusted\n",
      " - Doanh số 1.3175675675675675: QTY_B2_13_adjusted, QTY_B2_39_adjusted\n",
      " - Doanh số 1.25: QTY_B2_25_adjusted, QTY_B3_3_adjusted\n",
      " - Doanh số 3.804054054054054: QTY_B2_28_adjusted, QTY_B4_3_adjusted\n",
      " - Doanh số 1.0: QTY_B2_29_adjusted, QTY_B3_13_adjusted\n",
      " - Doanh số 1.4864864864864864: QTY_B2_2_adjusted, QTY_B3_9_adjusted\n",
      " - Doanh số 0.43243243243243246: QTY_B2_45_adjusted, QTY_B2_6_adjusted\n",
      " - Doanh số 1.385135135135135: QTY_B2_7_adjusted, QTY_B3_2_adjusted\n"
     ]
    }
   ],
   "source": [
    "\n",
    "\n",
    "# === KIỂM TRA SẢN PHẨM CÓ DOANH SỐ GIỐNG NHAU THEO TỪNG THÁNG ===\n",
    "from collections import defaultdict\n",
    "\n",
    "for month in product_month_matrix.columns:\n",
    "    sales = product_month_matrix[month]\n",
    "    duplicate_sales = sales[sales.duplicated(keep=False)]\n",
    "\n",
    "    same_sales_groups = defaultdict(list)\n",
    "    for product, value in duplicate_sales.items():\n",
    "        same_sales_groups[value].append(product)\n",
    "\n",
    "    print(f\"\\n Các nhóm sản phẩm có doanh số giống nhau trong tháng {month}:\")\n",
    "    found = False\n",
    "    for sale, group in same_sales_groups.items():\n",
    "        if len(group) > 1:\n",
    "            print(f\" - Doanh số {sale}: {', '.join(group)}\")\n",
    "            found = True\n",
    "    if not found:\n",
    "        print(\" (Không có nhóm sản phẩm nào có doanh số giống nhau)\")"
   ]
  },
  {
   "cell_type": "code",
   "execution_count": 12,
   "id": "abeb3255",
   "metadata": {},
   "outputs": [
    {
     "data": {
      "image/png": "[encoded data removed]",
      "text/plain": [
       "<Figure size 1400x600 with 1 Axes>"
      ]
     },
     "metadata": {},
     "output_type": "display_data"
    }
   ],
   "source": [
    "# Vẽ dendrogram\n",
    "plt.figure(figsize=(14, 6))\n",
    "dendrogram(linkage_matrix, labels=product_month_matrix.index, leaf_rotation=90, leaf_font_size=8, above_threshold_color='gray')\n",
    "plt.title('Dendrogram phân cụm sản phẩm theo hành vi mùa vụ')\n",
    "plt.xlabel('Sản phẩm')\n",
    "plt.ylabel('Khoảng cách')\n",
    "plt.tight_layout()\n",
    "plt.show()\n"
   ]
  }
 ],
 "metadata": {
  "kernelspec": {
   "display_name": "Python 3",
   "language": "python",
   "name": "python3"
  },
  "language_info": {
   "codemirror_mode": {
    "name": "ipython",
    "version": 3
   },
   "file_extension": ".py",
   "mimetype": "text/x-python",
   "name": "python",
   "nbconvert_exporter": "python",
   "pygments_lexer": "ipython3",
   "version": "3.11.0"
  }
 },
 "nbformat": 4,
 "nbformat_minor": 5
}
