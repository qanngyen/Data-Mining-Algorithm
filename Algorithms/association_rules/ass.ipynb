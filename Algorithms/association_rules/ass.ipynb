{
 "cells": [
  {
   "cell_type": "markdown",
   "id": "0a5d0c59",
   "metadata": {},
   "source": [
    "### Import thư viên"
   ]
  },
  {
   "cell_type": "code",
   "execution_count": null,
   "id": "2997cb95",
   "metadata": {},
   "outputs": [],
   "source": [
    "import pandas as pd\n",
    "from mlxtend.preprocessing import TransactionEncoder\n",
    "from mlxtend.frequent_patterns import fpgrowth, association_rules"
   ]
  },
  {
   "cell_type": "markdown",
   "id": "4b5e079d",
   "metadata": {},
   "source": [
    "### Đọc dữ liệu MIMIC-III"
   ]
  },
  {
   "cell_type": "code",
   "execution_count": 49,
   "id": "528db54d",
   "metadata": {},
   "outputs": [],
   "source": [
    "# Bước 1: Load dữ liệu từ MIMIC-III\n",
    "diagnoses = pd.read_csv('DIAGNOSES_ICD.csv')\n",
    "prescriptions = pd.read_csv('PRESCRIPTIONS.csv')\n",
    "icd_names = pd.read_csv('D_ICD_DIAGNOSES.csv')"
   ]
  },
  {
   "cell_type": "code",
   "execution_count": 50,
   "id": "8dcce461",
   "metadata": {},
   "outputs": [
    {
     "name": "stdout",
     "output_type": "stream",
     "text": [
      "Số lượng hadm_id duy nhất: 122\n"
     ]
    }
   ],
   "source": [
    "unique_hadm_count = prescriptions['hadm_id'].nunique()\n",
    "print(\"Số lượng hadm_id duy nhất:\", unique_hadm_count)"
   ]
  },
  {
   "cell_type": "markdown",
   "id": "7a348878",
   "metadata": {},
   "source": [
    "### Gom nhóm dữ liệu theo Hdam_id (mã lần nhập viện)"
   ]
  },
  {
   "cell_type": "code",
   "execution_count": 51,
   "id": "16d1367a",
   "metadata": {},
   "outputs": [],
   "source": [
    "\n",
    "# Bước 2: Map mã ICD sang tên bệnh \n",
    "diagnoses = diagnoses.merge(icd_names[['icd9_code', 'short_title']],\n",
    "                            left_on='icd9_code', right_on='icd9_code', how='left')\n",
    "diagnoses['diagnosis'] = diagnoses['short_title']\n",
    "\n",
    "# Bước 3: Gom nhóm theo hadm_id\n",
    "grouped = {}\n",
    "\n",
    "# Thêm chẩn đoán\n",
    "for hadm, group in diagnoses.groupby('hadm_id'):\n",
    "    grouped.setdefault(hadm, []).extend(['diag_' + d for d in group['diagnosis'].dropna().unique()])\n",
    "\n",
    "# Thêm thuốc (gộp theo drug_name_generic để loại bỏ các lần kê trùng)\n",
    "\n",
    "for hadm, group in prescriptions.groupby('hadm_id'):\n",
    "    # Lấy danh sách thuốc generic duy nhất\n",
    "    unique_drugs = group['drug_name_generic'].dropna().unique()\n",
    "    grouped.setdefault(hadm, []).extend(['drug_' + d for d in unique_drugs])\n",
    "    \n",
    "# XÓA hadm_id = 186361 TRƯỚC KHI GHI FILE\n",
    "grouped.pop(186361, None)  # dùng số nguyên, an toàn nếu không tồn tạ\n",
    "\n",
    "# Convert transactions dict to list of rows for export\n",
    "transactions = []\n",
    "for hadm_id, items in grouped.items():\n",
    "    transactions.append({'hadm_id': hadm_id, 'items': ';'.join(items)})\n",
    "\n",
    "# Ghi ra file CSV\n",
    "transactions_df = pd.DataFrame(transactions)\n",
    "transactions_df.to_csv('transactions_diagnosis_drug.csv', index=False)\n"
   ]
  },
  {
   "cell_type": "markdown",
   "id": "fc0d8470",
   "metadata": {},
   "source": [
    "### Tạo các tập phổ biến giữa chẩn đoán và thuốc"
   ]
  },
  {
   "cell_type": "code",
   "execution_count": 53,
   "id": "e17a0a57",
   "metadata": {},
   "outputs": [
    {
     "name": "stdout",
     "output_type": "stream",
     "text": [
      "Số lượng item duy nhất (unique items): 866\n",
      "         antecedents             consequents  support  confidence      lift\n",
      "4555  (diag_CHF NOS)   (drug_Heparin Sodium)     0.30    0.857143  1.318681\n",
      "4557  (diag_CHF NOS)  (drug_Docusate Sodium)     0.25    0.714286  1.400560\n",
      "4558  (diag_CHF NOS)            (drug_Senna)     0.23    0.657143  1.194805\n",
      "4561  (diag_CHF NOS)    (drug_Acetaminophen)     0.23    0.657143  1.059908\n",
      "4562  (diag_CHF NOS)     (drug_Pantoprazole)     0.21    0.600000  1.463415\n"
     ]
    }
   ],
   "source": [
    "\n",
    "# Bước 4: Chuyển sang danh sách các set để dùng cho luật kết hợp\n",
    "transaction_lists = [row['items'].split(';') for row in transactions]\n",
    "\n",
    "# (Tuỳ chọn) Lấy mẫu nhỏ nếu dữ liệu quá lớn để tránh MemoryError\n",
    "sample_size = 100  # bạn có thể điều chỉnh hoặc bỏ dòng này nếu dữ liệu nhỏ\n",
    "transaction_lists_sample = transaction_lists[:sample_size]\n",
    "\n",
    "all_items = set(item for trans in transaction_lists_sample for item in trans)\n",
    "print(\"Số lượng item duy nhất (unique items):\", len(all_items))\n",
    "\n",
    "# Mã hóa transactions sang ma trận one-hot\n",
    "te = TransactionEncoder()\n",
    "df_encoded = pd.DataFrame(te.fit_transform(transaction_lists_sample), columns=te.columns_)\n",
    "\n",
    "# Bước 5: Tìm tập phổ biến dùng FP-Growth thay cho Apriori\n",
    "freq_items = fpgrowth(df_encoded, min_support=0.1, use_colnames=True)\n",
    "\n",
    "# Tạo luật kết hợp\n",
    "rules = association_rules(freq_items, metric=\"confidence\", min_threshold=0.3)\n",
    "\n",
    "# Bước 6: Lọc luật \"chẩn đoán --> thuốc\"\n",
    "def is_diag(items):\n",
    "    return all(i.startswith('diag_') for i in items)\n",
    "\n",
    "def is_drug(items):\n",
    "    return all(i.startswith('drug_') for i in items)\n",
    "\n",
    "diag_to_drug_rules = rules[\n",
    "    rules['antecedents'].apply(is_diag) &\n",
    "    rules['consequents'].apply(is_drug)\n",
    "]\n",
    "\n",
    "# Xuất luật ra file CSV\n",
    "diag_to_drug_rules.to_csv('rules_diag_to_drug_fp_growth.csv', index=False)\n",
    "\n",
    "# In một số luật mẫu\n",
    "print(diag_to_drug_rules[['antecedents', 'consequents', 'support', 'confidence', 'lift']].head())"
   ]
  },
  {
   "cell_type": "markdown",
   "id": "ea918a06",
   "metadata": {},
   "source": [
    "### Tạo các tập phổ biến giữa các chẩn đoán"
   ]
  },
  {
   "cell_type": "code",
   "execution_count": 54,
   "id": "db2240c4",
   "metadata": {},
   "outputs": [
    {
     "name": "stdout",
     "output_type": "stream",
     "text": [
      "Đã lưu kết quả luật kết hợp FP-Growth vào file 'association_rules_fp_growth_output.csv'\n"
     ]
    }
   ],
   "source": [
    "# 2. Gom nhóm mã chẩn đoán theo từng lần nhập viện (HADM_ID)\n",
    "transactions = diagnoses.groupby('hadm_id')['icd9_code'].apply(list).tolist()\n",
    "\n",
    "# 3. Chuyển đổi dữ liệu sang dạng ma trận True/False\n",
    "te = TransactionEncoder()\n",
    "te_ary = te.fit(transactions).transform(transactions)\n",
    "df_trans = pd.DataFrame(te_ary, columns=te.columns_)\n",
    "\n",
    "# 4. Tìm tập phổ biến với min_support=0.01 (ví dụ)\n",
    "frequent_itemsets = fpgrowth(df_trans, min_support=0.05, use_colnames=True)\n",
    "\n",
    "# 5. Sinh luật kết hợp với min_threshold confidence=0.6\n",
    "rules = association_rules(frequent_itemsets, metric=\"confidence\", min_threshold=0.6)\n",
    "\n",
    "# 6. Chuyển frozenset thành string để dễ đọc và lưu CSV\n",
    "rules['antecedents'] = rules['antecedents'].apply(lambda x: ', '.join(list(x)))\n",
    "rules['consequents'] = rules['consequents'].apply(lambda x: ', '.join(list(x)))\n",
    "\n",
    "# 7. Lưu kết quả vào file CSV\n",
    "rules.to_csv('association_rules_fp_growth_output.csv', index=False)\n",
    "\n",
    "print(\"Đã lưu kết quả luật kết hợp FP-Growth vào file 'association_rules_fp_growth_output.csv'\")\n"
   ]
  }
 ],
 "metadata": {
  "kernelspec": {
   "display_name": "Python 3",
   "language": "python",
   "name": "python3"
  },
  "language_info": {
   "codemirror_mode": {
    "name": "ipython",
    "version": 3
   },
   "file_extension": ".py",
   "mimetype": "text/x-python",
   "name": "python",
   "nbconvert_exporter": "python",
   "pygments_lexer": "ipython3",
   "version": "3.11.2"
  }
 },
 "nbformat": 4,
 "nbformat_minor": 5
}
