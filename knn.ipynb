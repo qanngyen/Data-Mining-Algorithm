{
 "cells": [
  {
   "cell_type": "markdown",
   "id": "5b2ca5f9",
   "metadata": {},
   "source": [
    "## 1. CÀI THƯ VIỆN"
   ]
  },
  {
   "cell_type": "code",
   "execution_count": 8,
   "id": "2891dd55",
   "metadata": {},
   "outputs": [],
   "source": [
    "import pandas as pd\n",
    "from io import StringIO\n",
    "import numpy as np\n",
    "from sklearn.model_selection import train_test_split\n",
    "from sklearn.preprocessing import StandardScaler\n",
    "from sklearn.neighbors import KNeighborsClassifier\n",
    "from sklearn.metrics import accuracy_score, confusion_matrix, classification_report\n",
    "import matplotlib.pyplot as plt\n",
    "from sklearn.metrics import roc_auc_score, roc_curve\n",
    "\n"
   ]
  },
  {
   "cell_type": "markdown",
   "id": "9bb54c5f",
   "metadata": {},
   "source": [
    "## 2. ĐỌC DỮ LIỆU"
   ]
  },
  {
   "cell_type": "code",
   "execution_count": 9,
   "id": "2f225748",
   "metadata": {},
   "outputs": [
    {
     "data": {
      "text/plain": [
       "(569, 32)"
      ]
     },
     "execution_count": 9,
     "metadata": {},
     "output_type": "execute_result"
    }
   ],
   "source": [
    "# Đọc dữ liệu\n",
    "df = pd.read_csv(\"wdbc.data\", header=None)\n",
    "\n",
    "# Đặt tên cột theo file wdbc.names\n",
    "columns = [\n",
    "    'ID', 'Diagnosis',\n",
    "    'radius_mean', 'texture_mean', 'perimeter_mean', 'area_mean', 'smoothness_mean',\n",
    "    'compactness_mean', 'concavity_mean', 'concave_points_mean', 'symmetry_mean', 'fractal_dimension_mean',\n",
    "    'radius_se', 'texture_se', 'perimeter_se', 'area_se', 'smoothness_se',\n",
    "    'compactness_se', 'concavity_se', 'concave_points_se', 'symmetry_se', 'fractal_dimension_se',\n",
    "    'radius_worst', 'texture_worst', 'perimeter_worst', 'area_worst', 'smoothness_worst',\n",
    "    'compactness_worst', 'concavity_worst', 'concave_points_worst', 'symmetry_worst', 'fractal_dimension_worst'\n",
    "]\n",
    "df.columns = columns\n",
    "# KIỂM TRA VÀ IN SỐ DÒNG CỘT RA\n",
    "df.head()\n",
    "df.shape\n",
    "\n"
   ]
  },
  {
   "cell_type": "markdown",
   "id": "a44e6ef8",
   "metadata": {},
   "source": [
    "## 3. TIỀN XỬ LÝ"
   ]
  },
  {
   "cell_type": "code",
   "execution_count": 10,
   "id": "dbfa3ad3",
   "metadata": {},
   "outputs": [
    {
     "name": "stdout",
     "output_type": "stream",
     "text": [
      "Dữ liệu sau chuẩn hóa có shape: (569, 30)\n",
      "   Diagnosis  radius_mean  texture_mean  perimeter_mean  area_mean  \\\n",
      "0          1        17.99         10.38          122.80     1001.0   \n",
      "1          1        20.57         17.77          132.90     1326.0   \n",
      "2          1        19.69         21.25          130.00     1203.0   \n",
      "3          1        11.42         20.38           77.58      386.1   \n",
      "4          1        20.29         14.34          135.10     1297.0   \n",
      "\n",
      "   smoothness_mean  compactness_mean  concavity_mean  concave_points_mean  \\\n",
      "0          0.11840           0.27760          0.3001              0.14710   \n",
      "1          0.08474           0.07864          0.0869              0.07017   \n",
      "2          0.10960           0.15990          0.1974              0.12790   \n",
      "3          0.14250           0.28390          0.2414              0.10520   \n",
      "4          0.10030           0.13280          0.1980              0.10430   \n",
      "\n",
      "   symmetry_mean  ...  radius_worst  texture_worst  perimeter_worst  \\\n",
      "0         0.2419  ...         25.38          17.33           184.60   \n",
      "1         0.1812  ...         24.99          23.41           158.80   \n",
      "2         0.2069  ...         23.57          25.53           152.50   \n",
      "3         0.2597  ...         14.91          26.50            98.87   \n",
      "4         0.1809  ...         22.54          16.67           152.20   \n",
      "\n",
      "   area_worst  smoothness_worst  compactness_worst  concavity_worst  \\\n",
      "0      2019.0            0.1622             0.6656           0.7119   \n",
      "1      1956.0            0.1238             0.1866           0.2416   \n",
      "2      1709.0            0.1444             0.4245           0.4504   \n",
      "3       567.7            0.2098             0.8663           0.6869   \n",
      "4      1575.0            0.1374             0.2050           0.4000   \n",
      "\n",
      "   concave_points_worst  symmetry_worst  fractal_dimension_worst  \n",
      "0                0.2654          0.4601                  0.11890  \n",
      "1                0.1860          0.2750                  0.08902  \n",
      "2                0.2430          0.3613                  0.08758  \n",
      "3                0.2575          0.6638                  0.17300  \n",
      "4                0.1625          0.2364                  0.07678  \n",
      "\n",
      "[5 rows x 31 columns]\n"
     ]
    }
   ],
   "source": [
    "# Bỏ cột ID\n",
    "df = df.drop('ID', axis=1)\n",
    "\n",
    "# Chuyển Diagnosis: M = 1 (ác tính), B = 0 (lành tính)\n",
    "df['Diagnosis'] = df['Diagnosis'].map({'M': 1, 'B': 0})\n",
    "\n",
    "# Tách đặc trưng và nhãn\n",
    "X = df.drop('Diagnosis', axis=1)\n",
    "y = df['Diagnosis']\n",
    "\n",
    "# Chuẩn hóa dữ liệu\n",
    "scaler = StandardScaler()\n",
    "X_scaled = scaler.fit_transform(X)\n",
    "\n",
    "# Kiểm tra kết quả\n",
    "print(\"Dữ liệu sau chuẩn hóa có shape:\", X_scaled.shape)\n",
    "print(df.head())\n",
    "df.to_csv('processed_data.csv', index=False)"
   ]
  },
  {
   "cell_type": "markdown",
   "id": "e4a4cc5a",
   "metadata": {},
   "source": [
    "## 4. Chia dữ liệu train/test"
   ]
  },
  {
   "cell_type": "code",
   "execution_count": 11,
   "id": "7d13ec95",
   "metadata": {},
   "outputs": [],
   "source": [
    "X_train, X_test, y_train, y_test = train_test_split(\n",
    "    X_scaled, y, test_size=0.2, random_state=42, stratify=y\n",
    ")"
   ]
  },
  {
   "cell_type": "markdown",
   "id": "cae4e3ae",
   "metadata": {},
   "source": [
    "## 5. Tìm giá trị K tốt nhất"
   ]
  },
  {
   "cell_type": "code",
   "execution_count": 12,
   "id": "3c4c43f1",
   "metadata": {},
   "outputs": [
    {
     "data": {
      "image/png": "[encoded data removed]",
      "text/plain": [
       "<Figure size 640x480 with 1 Axes>"
      ]
     },
     "metadata": {},
     "output_type": "display_data"
    }
   ],
   "source": [
    "accuracies = []\n",
    "\n",
    "for k in range(1, 21):\n",
    "    model = KNeighborsClassifier(n_neighbors=k)\n",
    "    model.fit(X_train, y_train)\n",
    "    y_pred = model.predict(X_test)\n",
    "    acc = accuracy_score(y_test, y_pred)\n",
    "    accuracies.append(acc)\n",
    "\n",
    "# Vẽ biểu đồ\n",
    "plt.plot(range(1, 21), accuracies, marker='o')\n",
    "plt.xlabel('K')\n",
    "plt.ylabel('Accuracy')\n",
    "plt.title('Tìm giá trị K tốt nhất')\n",
    "plt.show()\n"
   ]
  },
  {
   "cell_type": "code",
   "execution_count": null,
   "id": "159b5269",
   "metadata": {},
   "outputs": [
    {
     "name": "stdout",
     "output_type": "stream",
     "text": [
      "AUC Score: 0.9816468253968255\n"
     ]
    },
    {
     "data": {
      "image/png": "[encoded data removed]",
      "text/plain": [
       "<Figure size 640x480 with 1 Axes>"
      ]
     },
     "metadata": {},
     "output_type": "display_data"
    },
    {
     "name": "stdout",
     "output_type": "stream",
     "text": [
      "Số mẫu test: 114\n",
      "Phân phối nhãn: Diagnosis\n",
      "0    72\n",
      "1    42\n",
      "Name: count, dtype: int64\n"
     ]
    }
   ],
   "source": [
    "# Dự đoán xác suất cho lớp dương tính (ác tính)\n",
    "y_proba = model.predict_proba(X_test)[:, 1]\n",
    "\n",
    "# Tính AUC\n",
    "auc_score = roc_auc_score(y_test, y_proba)\n",
    "print(\"AUC Score:\", auc_score)\n",
    "\n",
    "# Vẽ đường ROC\n",
    "fpr, tpr, thresholds = roc_curve(y_test, y_proba)\n",
    "\n",
    "plt.figure()\n",
    "plt.plot(fpr, tpr, label=f'ROC curve (AUC = {auc_score:.2f})')\n",
    "plt.plot([0, 1], [0, 1], 'k--', label='Random guess')\n",
    "plt.xlabel('False Positive Rate')\n",
    "plt.ylabel('True Positive Rate')\n",
    "plt.title('ROC Curve - KNN')\n",
    "plt.legend(loc='lower right')\n",
    "plt.grid(True)\n",
    "plt.show()\n",
    "print(\"Số mẫu test:\", len(y_test))\n",
    "print(\"Phân phối nhãn:\", y_test.value_counts())\n"
   ]
  },
  {
   "cell_type": "markdown",
   "id": "02c9fe1f",
   "metadata": {},
   "source": [
    "## 6. Huấn luyện và đánh giá với K tối ưu"
   ]
  },
  {
   "cell_type": "code",
   "execution_count": 15,
   "id": "8d6bdf5f",
   "metadata": {},
   "outputs": [
    {
     "name": "stdout",
     "output_type": "stream",
     "text": [
      "Giá trị K tốt nhất: 5\n",
      "Accuracy: 0.956140350877193\n",
      "Confusion Matrix:\n",
      " [[71  1]\n",
      " [ 4 38]]\n",
      "Classification Report:\n",
      "               precision    recall  f1-score   support\n",
      "\n",
      "           0       0.95      0.99      0.97        72\n",
      "           1       0.97      0.90      0.94        42\n",
      "\n",
      "    accuracy                           0.96       114\n",
      "   macro avg       0.96      0.95      0.95       114\n",
      "weighted avg       0.96      0.96      0.96       114\n",
      "\n"
     ]
    }
   ],
   "source": [
    "best_k = np.argmax(accuracies) + 1  # vì index bắt đầu từ 0\n",
    "print(\"Giá trị K tốt nhất:\", best_k)\n",
    "\n",
    "model = KNeighborsClassifier(n_neighbors=best_k)\n",
    "model.fit(X_train, y_train)\n",
    "y_pred = model.predict(X_test)\n",
    "\n",
    "print(\"Accuracy:\", accuracy_score(y_test, y_pred))\n",
    "print(\"Confusion Matrix:\\n\", confusion_matrix(y_test, y_pred))\n",
    "print(\"Classification Report:\\n\", classification_report(y_test, y_pred))\n"
   ]
  },
  {
   "cell_type": "markdown",
   "id": "6de7787f",
   "metadata": {},
   "source": [
    "## kiểm tra 10 dòng bạn cung cấp"
   ]
  },
  {
   "cell_type": "code",
   "execution_count": 9,
   "id": "2f98b70f",
   "metadata": {},
   "outputs": [
    {
     "name": "stdout",
     "output_type": "stream",
     "text": [
      "Label thật:      [0 0 0 1 1 1 1 1 1 0]\n",
      "Label dự đoán:   [0 0 0 1 1 1 1 1 1 0]\n",
      "Độ chính xác trên 10 mẫu: 1.0\n",
      "Confusion Matrix:\n",
      " [[4 0]\n",
      " [0 6]]\n",
      "Classification Report:\n",
      "               precision    recall  f1-score   support\n",
      "\n",
      "           0       1.00      1.00      1.00         4\n",
      "           1       1.00      1.00      1.00         6\n",
      "\n",
      "    accuracy                           1.00        10\n",
      "   macro avg       1.00      1.00      1.00        10\n",
      "weighted avg       1.00      1.00      1.00        10\n",
      "\n"
     ]
    }
   ],
   "source": [
    "# Thêm đoạn kiểm tra 10 dòng dữ liệu mới\n",
    "\n",
    "# Chuỗi dữ liệu\n",
    "new_data_str = \"\"\"\n",
    "925291,B,11.51,23.93,74.52,403.5,0.09261,0.1021,0.1112,0.04105,0.1388,0.0657,0.2388,2.904,1.936,16.97,0.0082,0.02982,0.05738,0.01267,0.01488,0.004738,12.48,37.16,82.28,474.2,0.1298,0.2517,0.363,0.09653,0.2112,0.08732\n",
    "925292,B,14.05,27.15,91.38,600.4,0.09929,0.1126,0.04462,0.04304,0.1537,0.06171,0.3645,1.492,2.888,29.84,0.007256,0.02678,0.02071,0.01626,0.0208,0.005304,15.3,33.17,100.2,706.7,0.1241,0.2264,0.1326,0.1048,0.225,0.08321\n",
    "925311,B,11.2,29.37,70.67,386,0.07449,0.03558,0,0,0.106,0.05502,0.3141,3.896,2.041,22.81,0.007594,0.008878,0,0,0.01989,0.001773,11.92,38.3,75.19,439.6,0.09267,0.05494,0,0,0.1566,0.05905\n",
    "925622,M,15.22,30.62,103.4,716.9,0.1048,0.2087,0.255,0.09429,0.2128,0.07152,0.2602,1.205,2.362,22.65,0.004625,0.04844,0.07359,0.01608,0.02137,0.006142,17.52,42.79,128.7,915,0.1417,0.7917,1.17,0.2356,0.4089,0.1409\n",
    "926125,M,20.92,25.09,143,1347,0.1099,0.2236,0.3174,0.1474,0.2149,0.06879,0.9622,1.026,8.758,118.8,0.006399,0.0431,0.07845,0.02624,0.02057,0.006213,24.29,29.41,179.1,1819,0.1407,0.4186,0.6599,0.2542,0.2929,0.09873\n",
    "926424,M,21.56,22.39,142,1479,0.111,0.1159,0.2439,0.1389,0.1726,0.05623,1.176,1.256,7.673,158.7,0.0103,0.02891,0.05198,0.02454,0.01114,0.004239,25.45,26.4,166.1,2027,0.141,0.2113,0.4107,0.2216,0.206,0.07115\n",
    "926682,M,20.13,28.25,131.2,1261,0.0978,0.1034,0.144,0.09791,0.1752,0.05533,0.7655,2.463,5.203,99.04,0.005769,0.02423,0.0395,0.01678,0.01898,0.002498,23.69,38.25,155,1731,0.1166,0.1922,0.3215,0.1628,0.2572,0.06637\n",
    "926954,M,16.6,28.08,108.3,858.1,0.08455,0.1023,0.09251,0.05302,0.159,0.05648,0.4564,1.075,3.425,48.55,0.005903,0.03731,0.0473,0.01557,0.01318,0.003892,18.98,34.12,126.7,1124,0.1139,0.3094,0.3403,0.1418,0.2218,0.0782\n",
    "927241,M,20.6,29.33,140.1,1265,0.1178,0.277,0.3514,0.152,0.2397,0.07016,0.726,1.595,5.772,86.22,0.006522,0.06158,0.07117,0.01664,0.02324,0.006185,25.74,39.42,184.6,1821,0.165,0.8681,0.9387,0.265,0.4087,0.124\n",
    "92751,B,7.76,24.54,47.92,181,0.05263,0.04362,0,0,0.1587,0.05884,0.3857,1.428,2.548,19.15,0.007189,0.00466,0,0,0.02676,0.002783,9.456,30.37,59.16,268.6,0.08996,0.06444,0,0,0.2871,0.07039\n",
    "\"\"\"\n",
    "\n",
    "# Chuyển chuỗi thành danh sách các dòng\n",
    "\n",
    "new_data = pd.read_csv(StringIO(new_data_str), header=None)\n",
    "\n",
    "# Đặt lại tên cột tương ứng\n",
    "new_data.columns = ['ID', 'Diagnosis'] + [f'feature_{i}' for i in range(1, 31)]\n",
    "\n",
    "# Lưu lại nhãn thật\n",
    "true_labels = new_data['Diagnosis'].map({'M': 1, 'B': 0}).values\n",
    "\n",
    "# Bỏ cột ID và Diagnosis, chỉ lấy đặc trưng\n",
    "X_new = new_data.drop(['ID', 'Diagnosis'], axis=1)\n",
    "\n",
    "# Chuẩn hóa dữ liệu giống như dữ liệu huấn luyện\n",
    "X_new_scaled = scaler.transform(X_new)\n",
    "\n",
    "# Dự đoán\n",
    "y_new_pred = model.predict(X_new_scaled)\n",
    "\n",
    "# In kết quả\n",
    "print(\"Label thật:     \", true_labels)\n",
    "print(\"Label dự đoán:  \", y_new_pred)\n",
    "print(\"Độ chính xác trên 10 mẫu:\", accuracy_score(true_labels, y_new_pred))\n",
    "print(\"Confusion Matrix:\\n\", confusion_matrix(true_labels, y_new_pred))\n",
    "print(\"Classification Report:\\n\", classification_report(true_labels, y_new_pred))\n"
   ]
  },
  {
   "cell_type": "markdown",
   "id": "3d386542",
   "metadata": {},
   "source": [
    "## Ví dụ: Kiểm thử một vài mẫu"
   ]
  },
  {
   "cell_type": "code",
   "execution_count": 13,
   "id": "6f3547c5",
   "metadata": {},
   "outputs": [
    {
     "name": "stdout",
     "output_type": "stream",
     "text": [
      "Mẫu 1:\n",
      "  Dự đoán: Benign\n",
      "  Thực tế: Benign\n",
      "Mẫu 2:\n",
      "  Dự đoán: Malignant\n",
      "  Thực tế: Malignant\n",
      "Mẫu 3:\n",
      "  Dự đoán: Benign\n",
      "  Thực tế: Benign\n",
      "Mẫu 4:\n",
      "  Dự đoán: Benign\n",
      "  Thực tế: Malignant\n",
      "Mẫu 5:\n",
      "  Dự đoán: Benign\n",
      "  Thực tế: Benign\n"
     ]
    }
   ],
   "source": [
    "# Huấn luyện mô hình KNN với K = 5\n",
    "from sklearn.neighbors import KNeighborsClassifier\n",
    "\n",
    "knn = KNeighborsClassifier(n_neighbors=5)\n",
    "knn.fit(X_train, y_train)\n",
    "sample_indexes = X_test[:5]\n",
    "sample_true_labels = y_test.iloc[:5]\n",
    "predicted_labels = knn.predict(sample_indexes)\n",
    "\n",
    "# 8. In kết quả\n",
    "for i in range(5):\n",
    "    print(f\"Mẫu {i+1}:\")\n",
    "    print(\"  Dự đoán:\", \"Malignant\" if predicted_labels[i] == 1 else \"Benign\")\n",
    "    print(\"  Thực tế:\", \"Malignant\" if sample_true_labels.iloc[i] == 1 else \"Benign\")"
   ]
  },
  {
   "cell_type": "code",
   "execution_count": 14,
   "id": "af2d3d19",
   "metadata": {},
   "outputs": [
    {
     "name": "stdout",
     "output_type": "stream",
     "text": [
      "Mẫu 1:\n",
      "  Dự đoán : Lành tính (Benign)\n",
      "  Thực tế : Lành tính (Benign)\n",
      "  --> ✅ Đúng\n",
      "\n",
      "Mẫu 2:\n",
      "  Dự đoán : Ác tính (Malignant)\n",
      "  Thực tế : Ác tính (Malignant)\n",
      "  --> ✅ Đúng\n",
      "\n",
      "Mẫu 3:\n",
      "  Dự đoán : Lành tính (Benign)\n",
      "  Thực tế : Lành tính (Benign)\n",
      "  --> ✅ Đúng\n",
      "\n",
      "Mẫu 4:\n",
      "  Dự đoán : Lành tính (Benign)\n",
      "  Thực tế : Ác tính (Malignant)\n",
      "  --> ❌ Sai\n",
      "\n",
      "Mẫu 5:\n",
      "  Dự đoán : Lành tính (Benign)\n",
      "  Thực tế : Lành tính (Benign)\n",
      "  --> ✅ Đúng\n",
      "\n"
     ]
    }
   ],
   "source": [
    "# 6. Lấy 5 mẫu từ tập test để kiểm tra\n",
    "sample_X = X_test[:5]\n",
    "sample_y_true = y_test.iloc[:5]\n",
    "sample_y_pred = knn.predict(sample_X)\n",
    "\n",
    "# 7. In kết quả so sánh dự đoán và thực tế\n",
    "for i in range(5):\n",
    "    print(f\"Mẫu {i+1}:\")\n",
    "    print(\"  Dự đoán :\", \"Ác tính (Malignant)\" if sample_y_pred[i] == 1 else \"Lành tính (Benign)\")\n",
    "    print(\"  Thực tế :\", \"Ác tính (Malignant)\" if sample_y_true.iloc[i] == 1 else \"Lành tính (Benign)\")\n",
    "    print(\"  -->\", \"✅ Đúng\" if sample_y_pred[i] == sample_y_true.iloc[i] else \"❌ Sai\")\n",
    "    print()"
   ]
  },
  {
   "cell_type": "markdown",
   "id": "6145336b",
   "metadata": {},
   "source": []
  },
  {
   "cell_type": "markdown",
   "id": "991ccce0",
   "metadata": {},
   "source": []
  }
 ],
 "metadata": {
  "kernelspec": {
   "display_name": "Python 3",
   "language": "python",
   "name": "python3"
  },
  "language_info": {
   "codemirror_mode": {
    "name": "ipython",
    "version": 3
   },
   "file_extension": ".py",
   "mimetype": "text/x-python",
   "name": "python",
   "nbconvert_exporter": "python",
   "pygments_lexer": "ipython3",
   "version": "3.13.3"
  }
 },
 "nbformat": 4,
 "nbformat_minor": 5
}
